{
 "cells": [
  {
   "cell_type": "code",
   "execution_count": 1,
   "id": "3bed2fe6-6e59-444a-9865-f0567ca3c09d",
   "metadata": {},
   "outputs": [],
   "source": [
    "from headjackai.headjackai_hub import headjackai_hub\n",
    "import pandas as pd\n",
    "from sklearn.datasets import load_iris\n"
   ]
  },
  {
   "cell_type": "code",
   "execution_count": 2,
   "id": "971d0a7c-7fdc-4f08-ae9c-d44b186b2d77",
   "metadata": {},
   "outputs": [],
   "source": [
    "#host\n",
    "hj_hub = headjackai_hub('http://www.headjackai.com:9000')"
   ]
  },
  {
   "cell_type": "code",
   "execution_count": 3,
   "id": "1140031f-cb42-4b5a-9009-38bd30003e89",
   "metadata": {},
   "outputs": [
    {
     "data": {
      "text/plain": [
       "'Login Successful!'"
      ]
     },
     "execution_count": 3,
     "metadata": {},
     "output_type": "execute_result"
    }
   ],
   "source": [
    "#account login\n",
    "hj_hub.login(username='???', pwd='???')"
   ]
  },
  {
   "cell_type": "code",
   "execution_count": 4,
   "id": "59c83391-12ce-47c1-b7ba-b8ae7e1587e8",
   "metadata": {
    "tags": []
   },
   "outputs": [
    {
     "data": {
      "text/plain": [
       "['kaggle_brijbhushannanda1979_bigmart_sales_data',\n",
       " 'kaggle_blastchar_telco_customer_churn',\n",
       " 'kaggle_lava18_google_play_store_apps',\n",
       " 'kaggle_madislemsalu_facebook_ad_campaign',\n",
       " 'kaggle_datasets_mhdzahier_travel_insurance',\n",
       " 'kaggle_zhijinzhai_loandata',\n",
       " 'kaggle_janiobachmann_bank_marketing_dataset',\n",
       " 'kaggle_santoshd3_bank_customers',\n",
       " 'kaggle_mahirahmzh_starbucks_customer_retention_malaysia_survey',\n",
       " 'kaggle_ihormuliar_starbucks_customer_data',\n",
       " 'kaggle_luiscorter_netflix_original_films_imdb_scores',\n",
       " 'kaggle_shivamb_hm_stores_dataset',\n",
       " 'kaggle_vivovinco_nba_player_stats',\n",
       " 'kaggle_the_winton_stock_market_challenge_one',\n",
       " 'kaggle_muthuj7_weather_dataset',\n",
       " 'kaggle_rinichristy_2022_fuel_consumption_ratings',\n",
       " 'kaggle_gsutters_economic_freedom',\n",
       " 'kaggle_chrischien17_taiwan_taipei_city_real_estate_transaction_records',\n",
       " 'kaggle_nenamalikah_nft_collections_by_sales_volume',\n",
       " 'symphox_vouch_offline_interest',\n",
       " 'symphox_offline_time',\n",
       " 'symphox_online_interest',\n",
       " 'uci_iris',\n",
       " 'uci_boston',\n",
       " 'uci_breast_cancer',\n",
       " 'uci_diabetes',\n",
       " 'uci_wine']"
      ]
     },
     "execution_count": 4,
     "metadata": {},
     "output_type": "execute_result"
    }
   ],
   "source": [
    "#check public knowledge pool\n",
    "hj_hub.knowledgepool_check(public_pool=True)"
   ]
  },
  {
   "cell_type": "code",
   "execution_count": 5,
   "id": "49956dca-7e20-4257-906b-bb07a3f96d69",
   "metadata": {
    "tags": []
   },
   "outputs": [],
   "source": [
    "#load example data \n",
    "df = load_iris()\n",
    "pd_df = pd.concat((pd.DataFrame(df['data']), pd.DataFrame(df['target'])),1)\n",
    "pd_df.columns = df['feature_names']+['label']\n"
   ]
  },
  {
   "cell_type": "code",
   "execution_count": 6,
   "id": "51a5c340-6ad5-454f-bb34-688e3a2521d0",
   "metadata": {},
   "outputs": [
    {
     "data": {
      "text/plain": [
       "'Congrat! The task has been successfully accepted, please wait for a moment or check status on \"fit_status_check\"'"
      ]
     },
     "execution_count": 6,
     "metadata": {},
     "output_type": "execute_result"
    }
   ],
   "source": [
    "#train new knowledge \n",
    "hj_hub.knowledge_fit(data=pd_df, target_domain='example_iris', \n",
    "                     task_name='example_iris_task01', label='label') "
   ]
  },
  {
   "cell_type": "code",
   "execution_count": 7,
   "id": "480181bc-a0ec-4fcc-ae7d-9d605099cc92",
   "metadata": {},
   "outputs": [
    {
     "data": {
      "text/plain": [
       "{'account': 'test_user01',\n",
       " 'task_name': 'example_iris_task01',\n",
       " 'process': 'knowledge_fit',\n",
       " 'status': 'running'}"
      ]
     },
     "execution_count": 7,
     "metadata": {},
     "output_type": "execute_result"
    }
   ],
   "source": [
    "#check the status on training task \n",
    "hj_hub.fit_status_check(task_name='example_iris_task01', \n",
    "                        process='knowledge_fit')"
   ]
  },
  {
   "cell_type": "code",
   "execution_count": 8,
   "id": "8b0d9475-4498-4f22-b261-eef9286668ab",
   "metadata": {},
   "outputs": [
    {
     "data": {
      "text/plain": [
       "{'account': 'test_user01',\n",
       " 'task_name': 'example_iris_task01',\n",
       " 'process': 'knowledge_fit',\n",
       " 'status': 'completed'}"
      ]
     },
     "execution_count": 8,
     "metadata": {},
     "output_type": "execute_result"
    }
   ],
   "source": [
    "#wait a moment \n",
    "hj_hub.fit_status_check(task_name='example_iris_task01', \n",
    "                        process='knowledge_fit')"
   ]
  },
  {
   "cell_type": "code",
   "execution_count": 9,
   "id": "97cd8863-ac70-4f2c-9215-e890b0bc13d6",
   "metadata": {},
   "outputs": [
    {
     "data": {
      "text/html": [
       "<div>\n",
       "<style scoped>\n",
       "    .dataframe tbody tr th:only-of-type {\n",
       "        vertical-align: middle;\n",
       "    }\n",
       "\n",
       "    .dataframe tbody tr th {\n",
       "        vertical-align: top;\n",
       "    }\n",
       "\n",
       "    .dataframe thead th {\n",
       "        text-align: right;\n",
       "    }\n",
       "</style>\n",
       "<table border=\"1\" class=\"dataframe\">\n",
       "  <thead>\n",
       "    <tr style=\"text-align: right;\">\n",
       "      <th></th>\n",
       "      <th>example_iris-sepal length (cm)</th>\n",
       "      <th>example_iris-sepal width (cm)</th>\n",
       "      <th>example_iris-petal length (cm)</th>\n",
       "      <th>example_iris-petal width (cm)</th>\n",
       "      <th>kaggle_shivamb_hm_stores_dataset-storeCode</th>\n",
       "      <th>kaggle_shivamb_hm_stores_dataset-storeClass</th>\n",
       "      <th>kaggle_shivamb_hm_stores_dataset-name</th>\n",
       "      <th>kaggle_shivamb_hm_stores_dataset-phone</th>\n",
       "      <th>kaggle_shivamb_hm_stores_dataset-city</th>\n",
       "      <th>kaggle_shivamb_hm_stores_dataset-country</th>\n",
       "      <th>...</th>\n",
       "      <th>kaggle_shivamb_hm_stores_dataset-Tue_open_hours</th>\n",
       "      <th>kaggle_shivamb_hm_stores_dataset-Wed_open_hours</th>\n",
       "      <th>kaggle_shivamb_hm_stores_dataset-Thu_open_hours</th>\n",
       "      <th>kaggle_shivamb_hm_stores_dataset-Fri_open_hours</th>\n",
       "      <th>kaggle_shivamb_hm_stores_dataset-Sat_open_hours</th>\n",
       "      <th>kaggle_shivamb_hm_stores_dataset-Sun_open_hours</th>\n",
       "      <th>kaggle_shivamb_hm_stores_dataset-streetName1</th>\n",
       "      <th>kaggle_shivamb_hm_stores_dataset-streetName2</th>\n",
       "      <th>kaggle_shivamb_hm_stores_dataset-state</th>\n",
       "      <th>kaggle_shivamb_hm_stores_dataset-address_string</th>\n",
       "    </tr>\n",
       "  </thead>\n",
       "  <tbody>\n",
       "    <tr>\n",
       "      <th>0</th>\n",
       "      <td>5.1</td>\n",
       "      <td>3.5</td>\n",
       "      <td>1.4</td>\n",
       "      <td>0.2</td>\n",
       "      <td>3365</td>\n",
       "      <td>3</td>\n",
       "      <td>2538</td>\n",
       "      <td>-42</td>\n",
       "      <td>330</td>\n",
       "      <td>73</td>\n",
       "      <td>...</td>\n",
       "      <td>45</td>\n",
       "      <td>47</td>\n",
       "      <td>54</td>\n",
       "      <td>52</td>\n",
       "      <td>62</td>\n",
       "      <td>70</td>\n",
       "      <td>2517</td>\n",
       "      <td>1696</td>\n",
       "      <td>151</td>\n",
       "      <td>2992</td>\n",
       "    </tr>\n",
       "    <tr>\n",
       "      <th>1</th>\n",
       "      <td>4.9</td>\n",
       "      <td>3.0</td>\n",
       "      <td>1.4</td>\n",
       "      <td>0.2</td>\n",
       "      <td>3261</td>\n",
       "      <td>3</td>\n",
       "      <td>1899</td>\n",
       "      <td>-78</td>\n",
       "      <td>1486</td>\n",
       "      <td>74</td>\n",
       "      <td>...</td>\n",
       "      <td>66</td>\n",
       "      <td>68</td>\n",
       "      <td>74</td>\n",
       "      <td>71</td>\n",
       "      <td>79</td>\n",
       "      <td>84</td>\n",
       "      <td>3930</td>\n",
       "      <td>563</td>\n",
       "      <td>72</td>\n",
       "      <td>1956</td>\n",
       "    </tr>\n",
       "    <tr>\n",
       "      <th>2</th>\n",
       "      <td>4.7</td>\n",
       "      <td>3.2</td>\n",
       "      <td>1.3</td>\n",
       "      <td>0.2</td>\n",
       "      <td>3757</td>\n",
       "      <td>3</td>\n",
       "      <td>2609</td>\n",
       "      <td>-80</td>\n",
       "      <td>343</td>\n",
       "      <td>74</td>\n",
       "      <td>...</td>\n",
       "      <td>47</td>\n",
       "      <td>48</td>\n",
       "      <td>53</td>\n",
       "      <td>53</td>\n",
       "      <td>62</td>\n",
       "      <td>68</td>\n",
       "      <td>2985</td>\n",
       "      <td>1712</td>\n",
       "      <td>-13</td>\n",
       "      <td>2081</td>\n",
       "    </tr>\n",
       "    <tr>\n",
       "      <th>3</th>\n",
       "      <td>4.6</td>\n",
       "      <td>3.1</td>\n",
       "      <td>1.5</td>\n",
       "      <td>0.2</td>\n",
       "      <td>3497</td>\n",
       "      <td>3</td>\n",
       "      <td>2371</td>\n",
       "      <td>-83</td>\n",
       "      <td>1500</td>\n",
       "      <td>74</td>\n",
       "      <td>...</td>\n",
       "      <td>68</td>\n",
       "      <td>70</td>\n",
       "      <td>75</td>\n",
       "      <td>54</td>\n",
       "      <td>61</td>\n",
       "      <td>84</td>\n",
       "      <td>3090</td>\n",
       "      <td>1714</td>\n",
       "      <td>46</td>\n",
       "      <td>1611</td>\n",
       "    </tr>\n",
       "    <tr>\n",
       "      <th>4</th>\n",
       "      <td>5.0</td>\n",
       "      <td>3.6</td>\n",
       "      <td>1.4</td>\n",
       "      <td>0.2</td>\n",
       "      <td>3557</td>\n",
       "      <td>3</td>\n",
       "      <td>2603</td>\n",
       "      <td>-32</td>\n",
       "      <td>331</td>\n",
       "      <td>73</td>\n",
       "      <td>...</td>\n",
       "      <td>46</td>\n",
       "      <td>48</td>\n",
       "      <td>55</td>\n",
       "      <td>53</td>\n",
       "      <td>63</td>\n",
       "      <td>70</td>\n",
       "      <td>2501</td>\n",
       "      <td>1701</td>\n",
       "      <td>-14</td>\n",
       "      <td>3235</td>\n",
       "    </tr>\n",
       "  </tbody>\n",
       "</table>\n",
       "<p>5 rows × 25 columns</p>\n",
       "</div>"
      ],
      "text/plain": [
       "   example_iris-sepal length (cm)  example_iris-sepal width (cm)  \\\n",
       "0                             5.1                            3.5   \n",
       "1                             4.9                            3.0   \n",
       "2                             4.7                            3.2   \n",
       "3                             4.6                            3.1   \n",
       "4                             5.0                            3.6   \n",
       "\n",
       "   example_iris-petal length (cm)  example_iris-petal width (cm)  \\\n",
       "0                             1.4                            0.2   \n",
       "1                             1.4                            0.2   \n",
       "2                             1.3                            0.2   \n",
       "3                             1.5                            0.2   \n",
       "4                             1.4                            0.2   \n",
       "\n",
       "   kaggle_shivamb_hm_stores_dataset-storeCode  \\\n",
       "0                                        3365   \n",
       "1                                        3261   \n",
       "2                                        3757   \n",
       "3                                        3497   \n",
       "4                                        3557   \n",
       "\n",
       "   kaggle_shivamb_hm_stores_dataset-storeClass  \\\n",
       "0                                            3   \n",
       "1                                            3   \n",
       "2                                            3   \n",
       "3                                            3   \n",
       "4                                            3   \n",
       "\n",
       "   kaggle_shivamb_hm_stores_dataset-name  \\\n",
       "0                                   2538   \n",
       "1                                   1899   \n",
       "2                                   2609   \n",
       "3                                   2371   \n",
       "4                                   2603   \n",
       "\n",
       "   kaggle_shivamb_hm_stores_dataset-phone  \\\n",
       "0                                     -42   \n",
       "1                                     -78   \n",
       "2                                     -80   \n",
       "3                                     -83   \n",
       "4                                     -32   \n",
       "\n",
       "   kaggle_shivamb_hm_stores_dataset-city  \\\n",
       "0                                    330   \n",
       "1                                   1486   \n",
       "2                                    343   \n",
       "3                                   1500   \n",
       "4                                    331   \n",
       "\n",
       "   kaggle_shivamb_hm_stores_dataset-country  ...  \\\n",
       "0                                        73  ...   \n",
       "1                                        74  ...   \n",
       "2                                        74  ...   \n",
       "3                                        74  ...   \n",
       "4                                        73  ...   \n",
       "\n",
       "   kaggle_shivamb_hm_stores_dataset-Tue_open_hours  \\\n",
       "0                                               45   \n",
       "1                                               66   \n",
       "2                                               47   \n",
       "3                                               68   \n",
       "4                                               46   \n",
       "\n",
       "   kaggle_shivamb_hm_stores_dataset-Wed_open_hours  \\\n",
       "0                                               47   \n",
       "1                                               68   \n",
       "2                                               48   \n",
       "3                                               70   \n",
       "4                                               48   \n",
       "\n",
       "   kaggle_shivamb_hm_stores_dataset-Thu_open_hours  \\\n",
       "0                                               54   \n",
       "1                                               74   \n",
       "2                                               53   \n",
       "3                                               75   \n",
       "4                                               55   \n",
       "\n",
       "   kaggle_shivamb_hm_stores_dataset-Fri_open_hours  \\\n",
       "0                                               52   \n",
       "1                                               71   \n",
       "2                                               53   \n",
       "3                                               54   \n",
       "4                                               53   \n",
       "\n",
       "   kaggle_shivamb_hm_stores_dataset-Sat_open_hours  \\\n",
       "0                                               62   \n",
       "1                                               79   \n",
       "2                                               62   \n",
       "3                                               61   \n",
       "4                                               63   \n",
       "\n",
       "   kaggle_shivamb_hm_stores_dataset-Sun_open_hours  \\\n",
       "0                                               70   \n",
       "1                                               84   \n",
       "2                                               68   \n",
       "3                                               84   \n",
       "4                                               70   \n",
       "\n",
       "   kaggle_shivamb_hm_stores_dataset-streetName1  \\\n",
       "0                                          2517   \n",
       "1                                          3930   \n",
       "2                                          2985   \n",
       "3                                          3090   \n",
       "4                                          2501   \n",
       "\n",
       "   kaggle_shivamb_hm_stores_dataset-streetName2  \\\n",
       "0                                          1696   \n",
       "1                                           563   \n",
       "2                                          1712   \n",
       "3                                          1714   \n",
       "4                                          1701   \n",
       "\n",
       "   kaggle_shivamb_hm_stores_dataset-state  \\\n",
       "0                                     151   \n",
       "1                                      72   \n",
       "2                                     -13   \n",
       "3                                      46   \n",
       "4                                     -14   \n",
       "\n",
       "   kaggle_shivamb_hm_stores_dataset-address_string  \n",
       "0                                             2992  \n",
       "1                                             1956  \n",
       "2                                             2081  \n",
       "3                                             1611  \n",
       "4                                             3235  \n",
       "\n",
       "[5 rows x 25 columns]"
      ]
     },
     "execution_count": 9,
     "metadata": {},
     "output_type": "execute_result"
    }
   ],
   "source": [
    "#df transfer with another knowledge\n",
    "jackin_df = hj_hub.knowledge_transform(data=pd_df, target_domain='example_iris', \n",
    "                           source_domain='kaggle_shivamb_hm_stores_dataset',label='label') \n",
    "jackin_df.head()"
   ]
  },
  {
   "cell_type": "code",
   "execution_count": 10,
   "id": "b04e727c-1f8c-461b-acb6-a778ad5b4fd6",
   "metadata": {},
   "outputs": [],
   "source": [
    "##if the headjack features list is already\n",
    "\n",
    "# jackin_df = hj_hub.knowledge_transform(data=pd_df, target_domain='example_iris', \n",
    "#                            features_list=features_list, label='label') \n",
    "# jackin_df.head()"
   ]
  },
  {
   "cell_type": "code",
   "execution_count": 11,
   "id": "a728ebc7-6012-463d-81a3-10e2adb850cf",
   "metadata": {},
   "outputs": [
    {
     "data": {
      "text/plain": [
       "'Congrat! The task has been successfully accepted, please wait for a moment or check status on \"fit_status_check\"'"
      ]
     },
     "execution_count": 11,
     "metadata": {},
     "output_type": "execute_result"
    }
   ],
   "source": [
    "#use knowledge pool as search space to find good bundle of knowledge\n",
    "source_list = hj_hub.knowledgepool_check(public_pool=True)\n",
    "hj_hub.fit(data=pd_df, target_domain='example_iris', \n",
    "            task_name='example_iris_task02',label='label', \n",
    "            best_domain=True, source_list=source_list,\n",
    "            eval_metric='f1', ml_type='lgbm')"
   ]
  },
  {
   "cell_type": "code",
   "execution_count": 12,
   "id": "b3123d5c-5b1d-403f-b96a-c764dafe59b8",
   "metadata": {},
   "outputs": [
    {
     "data": {
      "text/plain": [
       "{'account': 'test_user01',\n",
       " 'task_name': 'example_iris_task02',\n",
       " 'process': 'fit',\n",
       " 'status': 'running'}"
      ]
     },
     "execution_count": 12,
     "metadata": {},
     "output_type": "execute_result"
    }
   ],
   "source": [
    "hj_hub.fit_status_check(task_name='example_iris_task02', \n",
    "                        process='fit')"
   ]
  },
  {
   "cell_type": "code",
   "execution_count": 13,
   "id": "b3008dc7-e073-4c3f-8a3b-1cf06c8861c2",
   "metadata": {},
   "outputs": [
    {
     "data": {
      "text/plain": [
       "{'account': 'test_user01',\n",
       " 'task_name': 'example_iris_task02',\n",
       " 'process': 'fit',\n",
       " 'status': 'completed'}"
      ]
     },
     "execution_count": 13,
     "metadata": {},
     "output_type": "execute_result"
    }
   ],
   "source": [
    "#wait a moment\n",
    "hj_hub.fit_status_check(task_name='example_iris_task02', \n",
    "                        process='fit')"
   ]
  },
  {
   "cell_type": "code",
   "execution_count": 14,
   "id": "aad3be0c-f5a8-4789-961b-0bfea2fe9cc6",
   "metadata": {},
   "outputs": [],
   "source": [
    "#return results of featurse list and metrics \n",
    "features_list, metrics = hj_hub.fit_res_return(task_name='example_iris_task02')"
   ]
  },
  {
   "cell_type": "code",
   "execution_count": 15,
   "id": "1801af36-bd8c-4ea8-bfe0-ed1e65c17a32",
   "metadata": {},
   "outputs": [
    {
     "data": {
      "text/plain": [
       "['example_iris-sepal length (cm)',\n",
       " 'example_iris-sepal width (cm)',\n",
       " 'example_iris-petal length (cm)',\n",
       " 'example_iris-petal width (cm)',\n",
       " 'kaggle_brijbhushannanda1979_bigmart_sales_data-Item_Identifier',\n",
       " 'kaggle_brijbhushannanda1979_bigmart_sales_data-Item_Weight',\n",
       " 'kaggle_brijbhushannanda1979_bigmart_sales_data-Item_Fat_Content',\n",
       " 'kaggle_brijbhushannanda1979_bigmart_sales_data-Item_Visibility',\n",
       " 'kaggle_brijbhushannanda1979_bigmart_sales_data-Item_Type',\n",
       " 'kaggle_brijbhushannanda1979_bigmart_sales_data-Item_MRP',\n",
       " 'kaggle_brijbhushannanda1979_bigmart_sales_data-Outlet_Identifier',\n",
       " 'kaggle_brijbhushannanda1979_bigmart_sales_data-Outlet_Establishment_Year',\n",
       " 'kaggle_brijbhushannanda1979_bigmart_sales_data-Outlet_Size',\n",
       " 'kaggle_brijbhushannanda1979_bigmart_sales_data-Outlet_Location_Type',\n",
       " 'kaggle_brijbhushannanda1979_bigmart_sales_data-Outlet_Type',\n",
       " 'kaggle_brijbhushannanda1979_bigmart_sales_data-Item_Outlet_Sales']"
      ]
     },
     "execution_count": 15,
     "metadata": {},
     "output_type": "execute_result"
    }
   ],
   "source": [
    "features_list"
   ]
  },
  {
   "cell_type": "code",
   "execution_count": 16,
   "id": "23582b25-3b55-42d4-920a-e66c121702ef",
   "metadata": {},
   "outputs": [
    {
     "data": {
      "text/html": [
       "<div>\n",
       "<style scoped>\n",
       "    .dataframe tbody tr th:only-of-type {\n",
       "        vertical-align: middle;\n",
       "    }\n",
       "\n",
       "    .dataframe tbody tr th {\n",
       "        vertical-align: top;\n",
       "    }\n",
       "\n",
       "    .dataframe thead th {\n",
       "        text-align: right;\n",
       "    }\n",
       "</style>\n",
       "<table border=\"1\" class=\"dataframe\">\n",
       "  <thead>\n",
       "    <tr style=\"text-align: right;\">\n",
       "      <th></th>\n",
       "      <th>name_metrics</th>\n",
       "      <th>score</th>\n",
       "    </tr>\n",
       "  </thead>\n",
       "  <tbody>\n",
       "    <tr>\n",
       "      <th>0</th>\n",
       "      <td>kaggle_brijbhushannanda1979_bigmart_sales_data</td>\n",
       "      <td>0.961905</td>\n",
       "    </tr>\n",
       "    <tr>\n",
       "      <th>1</th>\n",
       "      <td>kaggle_rinichristy_2022_fuel_consumption_ratings</td>\n",
       "      <td>0.961905</td>\n",
       "    </tr>\n",
       "    <tr>\n",
       "      <th>2</th>\n",
       "      <td>kaggle_lava18_google_play_store_apps</td>\n",
       "      <td>0.961905</td>\n",
       "    </tr>\n",
       "    <tr>\n",
       "      <th>3</th>\n",
       "      <td>uci_diabetes</td>\n",
       "      <td>0.961905</td>\n",
       "    </tr>\n",
       "    <tr>\n",
       "      <th>4</th>\n",
       "      <td>kaggle_janiobachmann_bank_marketing_dataset</td>\n",
       "      <td>0.961905</td>\n",
       "    </tr>\n",
       "    <tr>\n",
       "      <th>5</th>\n",
       "      <td>symphox_online_interest</td>\n",
       "      <td>0.961905</td>\n",
       "    </tr>\n",
       "    <tr>\n",
       "      <th>6</th>\n",
       "      <td>kaggle_luiscorter_netflix_original_films_imdb_...</td>\n",
       "      <td>0.961905</td>\n",
       "    </tr>\n",
       "    <tr>\n",
       "      <th>7</th>\n",
       "      <td>uci_breast_cancer</td>\n",
       "      <td>0.922078</td>\n",
       "    </tr>\n",
       "    <tr>\n",
       "      <th>8</th>\n",
       "      <td>uci_boston</td>\n",
       "      <td>0.922078</td>\n",
       "    </tr>\n",
       "    <tr>\n",
       "      <th>9</th>\n",
       "      <td>uci_iris</td>\n",
       "      <td>0.922078</td>\n",
       "    </tr>\n",
       "    <tr>\n",
       "      <th>10</th>\n",
       "      <td>symphox_offline_time</td>\n",
       "      <td>0.922078</td>\n",
       "    </tr>\n",
       "    <tr>\n",
       "      <th>11</th>\n",
       "      <td>kaggle_nenamalikah_nft_collections_by_sales_vo...</td>\n",
       "      <td>0.922078</td>\n",
       "    </tr>\n",
       "    <tr>\n",
       "      <th>12</th>\n",
       "      <td>kaggle_chrischien17_taiwan_taipei_city_real_es...</td>\n",
       "      <td>0.922078</td>\n",
       "    </tr>\n",
       "    <tr>\n",
       "      <th>13</th>\n",
       "      <td>kaggle_gsutters_economic_freedom</td>\n",
       "      <td>0.922078</td>\n",
       "    </tr>\n",
       "    <tr>\n",
       "      <th>14</th>\n",
       "      <td>kaggle_the_winton_stock_market_challenge_one</td>\n",
       "      <td>0.922078</td>\n",
       "    </tr>\n",
       "    <tr>\n",
       "      <th>15</th>\n",
       "      <td>kaggle_blastchar_telco_customer_churn</td>\n",
       "      <td>0.922078</td>\n",
       "    </tr>\n",
       "    <tr>\n",
       "      <th>16</th>\n",
       "      <td>kaggle_vivovinco_nba_player_stats</td>\n",
       "      <td>0.922078</td>\n",
       "    </tr>\n",
       "    <tr>\n",
       "      <th>17</th>\n",
       "      <td>kaggle_shivamb_hm_stores_dataset</td>\n",
       "      <td>0.922078</td>\n",
       "    </tr>\n",
       "    <tr>\n",
       "      <th>18</th>\n",
       "      <td>kaggle_ihormuliar_starbucks_customer_data</td>\n",
       "      <td>0.922078</td>\n",
       "    </tr>\n",
       "    <tr>\n",
       "      <th>19</th>\n",
       "      <td>kaggle_mahirahmzh_starbucks_customer_retention...</td>\n",
       "      <td>0.922078</td>\n",
       "    </tr>\n",
       "    <tr>\n",
       "      <th>20</th>\n",
       "      <td>kaggle_santoshd3_bank_customers</td>\n",
       "      <td>0.922078</td>\n",
       "    </tr>\n",
       "    <tr>\n",
       "      <th>21</th>\n",
       "      <td>kaggle_zhijinzhai_loandata</td>\n",
       "      <td>0.922078</td>\n",
       "    </tr>\n",
       "    <tr>\n",
       "      <th>22</th>\n",
       "      <td>kaggle_datasets_mhdzahier_travel_insurance</td>\n",
       "      <td>0.922078</td>\n",
       "    </tr>\n",
       "    <tr>\n",
       "      <th>23</th>\n",
       "      <td>kaggle_madislemsalu_facebook_ad_campaign</td>\n",
       "      <td>0.922078</td>\n",
       "    </tr>\n",
       "    <tr>\n",
       "      <th>24</th>\n",
       "      <td>uci_wine</td>\n",
       "      <td>0.922078</td>\n",
       "    </tr>\n",
       "    <tr>\n",
       "      <th>25</th>\n",
       "      <td>symphox_vouch_offline_interest</td>\n",
       "      <td>0.888545</td>\n",
       "    </tr>\n",
       "    <tr>\n",
       "      <th>26</th>\n",
       "      <td>kaggle_muthuj7_weather_dataset</td>\n",
       "      <td>0.879599</td>\n",
       "    </tr>\n",
       "  </tbody>\n",
       "</table>\n",
       "</div>"
      ],
      "text/plain": [
       "                                         name_metrics     score\n",
       "0      kaggle_brijbhushannanda1979_bigmart_sales_data  0.961905\n",
       "1    kaggle_rinichristy_2022_fuel_consumption_ratings  0.961905\n",
       "2                kaggle_lava18_google_play_store_apps  0.961905\n",
       "3                                        uci_diabetes  0.961905\n",
       "4         kaggle_janiobachmann_bank_marketing_dataset  0.961905\n",
       "5                             symphox_online_interest  0.961905\n",
       "6   kaggle_luiscorter_netflix_original_films_imdb_...  0.961905\n",
       "7                                   uci_breast_cancer  0.922078\n",
       "8                                          uci_boston  0.922078\n",
       "9                                            uci_iris  0.922078\n",
       "10                               symphox_offline_time  0.922078\n",
       "11  kaggle_nenamalikah_nft_collections_by_sales_vo...  0.922078\n",
       "12  kaggle_chrischien17_taiwan_taipei_city_real_es...  0.922078\n",
       "13                   kaggle_gsutters_economic_freedom  0.922078\n",
       "14       kaggle_the_winton_stock_market_challenge_one  0.922078\n",
       "15              kaggle_blastchar_telco_customer_churn  0.922078\n",
       "16                  kaggle_vivovinco_nba_player_stats  0.922078\n",
       "17                   kaggle_shivamb_hm_stores_dataset  0.922078\n",
       "18          kaggle_ihormuliar_starbucks_customer_data  0.922078\n",
       "19  kaggle_mahirahmzh_starbucks_customer_retention...  0.922078\n",
       "20                    kaggle_santoshd3_bank_customers  0.922078\n",
       "21                         kaggle_zhijinzhai_loandata  0.922078\n",
       "22         kaggle_datasets_mhdzahier_travel_insurance  0.922078\n",
       "23           kaggle_madislemsalu_facebook_ad_campaign  0.922078\n",
       "24                                           uci_wine  0.922078\n",
       "25                     symphox_vouch_offline_interest  0.888545\n",
       "26                     kaggle_muthuj7_weather_dataset  0.879599"
      ]
     },
     "execution_count": 16,
     "metadata": {},
     "output_type": "execute_result"
    }
   ],
   "source": [
    "metrics"
   ]
  },
  {
   "cell_type": "code",
   "execution_count": 17,
   "id": "fa60e0dd-e8b2-4017-99fd-759e0db98bc7",
   "metadata": {},
   "outputs": [],
   "source": [
    "preds = hj_hub.transform(data=pd_df, target_domain='example_iris', task_name='example_iris_task02',\n",
    "                         label='label',features_list=features_list, proba_domain=False)"
   ]
  },
  {
   "cell_type": "code",
   "execution_count": 18,
   "id": "abc6a33e-3432-482f-a5e0-ad88889670b1",
   "metadata": {},
   "outputs": [],
   "source": [
    "# hj_hub.knowledgepool_delete(target_domain='example_iris') "
   ]
  },
  {
   "cell_type": "code",
   "execution_count": null,
   "id": "ea6671e9-2754-451d-bdc0-04090f896fe2",
   "metadata": {},
   "outputs": [],
   "source": []
  },
  {
   "cell_type": "code",
   "execution_count": null,
   "id": "da6f58f0-9848-4fb1-920c-8edaa4b6be0a",
   "metadata": {},
   "outputs": [],
   "source": []
  },
  {
   "cell_type": "code",
   "execution_count": null,
   "id": "e7f501a0-b946-46c9-8591-b3d4e32d6466",
   "metadata": {},
   "outputs": [],
   "source": []
  }
 ],
 "metadata": {
  "kernelspec": {
   "display_name": "Python 3",
   "language": "python",
   "name": "python3"
  },
  "language_info": {
   "codemirror_mode": {
    "name": "ipython",
    "version": 3
   },
   "file_extension": ".py",
   "mimetype": "text/x-python",
   "name": "python",
   "nbconvert_exporter": "python",
   "pygments_lexer": "ipython3",
   "version": "3.6.13"
  }
 },
 "nbformat": 4,
 "nbformat_minor": 5
}
