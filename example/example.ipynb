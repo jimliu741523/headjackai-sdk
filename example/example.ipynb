{
 "cells": [
  {
   "cell_type": "code",
   "execution_count": 1,
   "id": "3bed2fe6-6e59-444a-9865-f0567ca3c09d",
   "metadata": {},
   "outputs": [],
   "source": [
    "from headjackai.headjackai_hub import headjackai_hub\n",
    "import pandas as pd\n",
    "from sklearn.datasets import load_iris\n"
   ]
  },
  {
   "cell_type": "code",
   "execution_count": 18,
   "id": "971d0a7c-7fdc-4f08-ae9c-d44b186b2d77",
   "metadata": {},
   "outputs": [],
   "source": [
    "hj_hub = headjackai_hub('???')"
   ]
  },
  {
   "cell_type": "code",
   "execution_count": 19,
   "id": "1140031f-cb42-4b5a-9009-38bd30003e89",
   "metadata": {},
   "outputs": [
    {
     "name": "stdout",
     "output_type": "stream",
     "text": [
      "Login Successful!\n"
     ]
    }
   ],
   "source": [
    "hj_hub.login(username='???', pwd='???')"
   ]
  },
  {
   "cell_type": "code",
   "execution_count": 20,
   "id": "17a028b7-2467-415b-b3c1-4ff386a7f2d3",
   "metadata": {},
   "outputs": [
    {
     "data": {
      "text/plain": [
       "['nbi_momo_product', 'nbi_iris']"
      ]
     },
     "execution_count": 20,
     "metadata": {},
     "output_type": "execute_result"
    }
   ],
   "source": [
    "hj_hub.knowledgepool_check(public_pool=False)"
   ]
  },
  {
   "cell_type": "code",
   "execution_count": 5,
   "id": "59c83391-12ce-47c1-b7ba-b8ae7e1587e8",
   "metadata": {
    "tags": []
   },
   "outputs": [
    {
     "data": {
      "text/plain": [
       "['scikit_iris',\n",
       " 'scikit_boston',\n",
       " 'kaggle_brijbhushannanda1979_bigmart_sales_data',\n",
       " 'kaggle_blastchar_telco_customer_churn',\n",
       " 'kaggle_lava18_google_play_store_apps',\n",
       " 'kaggle_madislemsalu_facebook_ad_campaign',\n",
       " 'kaggle_datasets_mhdzahier_travel_insurance',\n",
       " 'kaggle_zhijinzhai_loandata',\n",
       " 'kaggle_janiobachmann_bank_marketing_dataset',\n",
       " 'kaggle_santoshd3_bank_customers',\n",
       " 'kaggle_mahirahmzh_starbucks_customer_retention_malaysia_survey',\n",
       " 'kaggle_ihormuliar_starbucks_customer_data',\n",
       " 'kaggle_luiscorter_netflix_original_films_imdb_scores',\n",
       " 'kaggle_shivamb_hm_stores_dataset',\n",
       " 'kaggle_vivovinco_nba_player_stats',\n",
       " 'kaggle_the_winton_stock_market_challenge_one',\n",
       " 'kaggle_muthuj7_weather_dataset',\n",
       " 'kaggle_rinichristy_2022_fuel_consumption_ratings']"
      ]
     },
     "execution_count": 5,
     "metadata": {},
     "output_type": "execute_result"
    }
   ],
   "source": [
    "hj_hub.knowledgepool_check(public_pool=True)"
   ]
  },
  {
   "cell_type": "code",
   "execution_count": 6,
   "id": "49956dca-7e20-4257-906b-bb07a3f96d69",
   "metadata": {
    "tags": []
   },
   "outputs": [],
   "source": [
    "df = load_iris()\n",
    "pd_df = pd.concat((pd.DataFrame(df['data']), pd.DataFrame(df['target'])),1)\n",
    "pd_df.columns = df['feature_names']+['label']\n"
   ]
  },
  {
   "cell_type": "code",
   "execution_count": 7,
   "id": "51a5c340-6ad5-454f-bb34-688e3a2521d0",
   "metadata": {},
   "outputs": [],
   "source": [
    "hj_hub.knowledge_fit(data=pd_df, target_domain='example_iris', label='label') "
   ]
  },
  {
   "cell_type": "code",
   "execution_count": 9,
   "id": "97cd8863-ac70-4f2c-9215-e890b0bc13d6",
   "metadata": {},
   "outputs": [],
   "source": [
    "jackin_df = hj_hub.knowledge_transform(data=pd_df, target_domain='example_iris', \n",
    "                           source_domain='kaggle_shivamb_hm_stores_dataset',label='label') \n",
    "jackin_df.head()"
   ]
  },
  {
   "cell_type": "code",
   "execution_count": 12,
   "id": "b04e727c-1f8c-461b-acb6-a778ad5b4fd6",
   "metadata": {},
   "outputs": [],
   "source": [
    "##if the headjack features list is already\n",
    "\n",
    "# jackin_df = hj_hub.knowledge_transform(data=pd_df, target_domain='example_iris', \n",
    "#                            features_list=features_list, label='label') \n",
    "# jackin_df.head()"
   ]
  },
  {
   "cell_type": "code",
   "execution_count": 10,
   "id": "a728ebc7-6012-463d-81a3-10e2adb850cf",
   "metadata": {},
   "outputs": [],
   "source": [
    "features_list, metrics = hj_hub.fit(data=pd_df, target_domain='example_iris', \n",
    "                                    task_name='example_iris_task01',label='label', best_domain=True)"
   ]
  },
  {
   "cell_type": "code",
   "execution_count": 16,
   "id": "fa60e0dd-e8b2-4017-99fd-759e0db98bc7",
   "metadata": {},
   "outputs": [],
   "source": [
    "preds = hj_hub.transform(data=pd_df, target_domain='example_iris', task_name='example_iris_task01',\n",
    "                         label='label',features_list=features_list, proba_domain=False)"
   ]
  },
  {
   "cell_type": "code",
   "execution_count": 18,
   "id": "abc6a33e-3432-482f-a5e0-ad88889670b1",
   "metadata": {},
   "outputs": [],
   "source": [
    "hj_hub.knowledgepool_delete(target_domain='example_iris') "
   ]
  },
  {
   "cell_type": "code",
   "execution_count": null,
   "id": "ea6671e9-2754-451d-bdc0-04090f896fe2",
   "metadata": {},
   "outputs": [],
   "source": []
  }
 ],
 "metadata": {
  "kernelspec": {
   "display_name": "Python 3",
   "language": "python",
   "name": "python3"
  },
  "language_info": {
   "codemirror_mode": {
    "name": "ipython",
    "version": 3
   },
   "file_extension": ".py",
   "mimetype": "text/x-python",
   "name": "python",
   "nbconvert_exporter": "python",
   "pygments_lexer": "ipython3",
   "version": "3.6.13"
  }
 },
 "nbformat": 4,
 "nbformat_minor": 5
}
