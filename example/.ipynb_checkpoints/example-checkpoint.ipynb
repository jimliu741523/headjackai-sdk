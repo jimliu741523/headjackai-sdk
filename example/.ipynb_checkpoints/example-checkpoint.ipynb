{
 "cells": [
  {
   "cell_type": "code",
   "execution_count": 19,
   "id": "3bed2fe6-6e59-444a-9865-f0567ca3c09d",
   "metadata": {},
   "outputs": [],
   "source": [
    "from headjackai_hub import headjackai_hub\n",
    "import pandas as pd\n",
    "from sklearn.datasets import load_iris\n"
   ]
  },
  {
   "cell_type": "code",
   "execution_count": 20,
   "id": "971d0a7c-7fdc-4f08-ae9c-d44b186b2d77",
   "metadata": {},
   "outputs": [],
   "source": [
    "hj_hub = headjackai_hub('http://127.0.0.1:9000')"
   ]
  },
  {
   "cell_type": "code",
   "execution_count": 21,
   "id": "1140031f-cb42-4b5a-9009-38bd30003e89",
   "metadata": {},
   "outputs": [
    {
     "name": "stdout",
     "output_type": "stream",
     "text": [
      "Login Successful!\n"
     ]
    }
   ],
   "source": [
    "hj_hub.login(username='nbiadmin', pwd='nbiadmin')"
   ]
  },
  {
   "cell_type": "code",
   "execution_count": 22,
   "id": "17a028b7-2467-415b-b3c1-4ff386a7f2d3",
   "metadata": {},
   "outputs": [
    {
     "data": {
      "text/plain": [
       "['nbi_momo_product', 'nbi_iris']"
      ]
     },
     "execution_count": 22,
     "metadata": {},
     "output_type": "execute_result"
    }
   ],
   "source": [
    "hj_hub.knowledgepool_check(public_pool=False)"
   ]
  },
  {
   "cell_type": "code",
   "execution_count": 23,
   "id": "59c83391-12ce-47c1-b7ba-b8ae7e1587e8",
   "metadata": {},
   "outputs": [
    {
     "data": {
      "text/plain": [
       "['scikit_iris',\n",
       " 'scikit_boston',\n",
       " 'kaggle_brijbhushannanda1979_bigmart_sales_data',\n",
       " 'kaggle_blastchar_telco_customer_churn',\n",
       " 'kaggle_lava18_google_play_store_apps',\n",
       " 'kaggle_madislemsalu_facebook_ad_campaign',\n",
       " 'kaggle_datasets_mhdzahier_travel_insurance',\n",
       " 'kaggle_zhijinzhai_loandata',\n",
       " 'kaggle_janiobachmann_bank_marketing_dataset',\n",
       " 'kaggle_santoshd3_bank_customers',\n",
       " 'kaggle_mahirahmzh_starbucks_customer_retention_malaysia_survey',\n",
       " 'kaggle_ihormuliar_starbucks_customer_data',\n",
       " 'kaggle_luiscorter_netflix_original_films_imdb_scores',\n",
       " 'kaggle_shivamb_hm_stores_dataset',\n",
       " 'kaggle_vivovinco_nba_player_stats',\n",
       " 'kaggle_the_winton_stock_market_challenge_one',\n",
       " 'kaggle_muthuj7_weather_dataset',\n",
       " 'kaggle_rinichristy_2022_fuel_consumption_ratings']"
      ]
     },
     "execution_count": 23,
     "metadata": {},
     "output_type": "execute_result"
    }
   ],
   "source": [
    "hj_hub.knowledgepool_check(public_pool=True)"
   ]
  },
  {
   "cell_type": "code",
   "execution_count": 24,
   "id": "49956dca-7e20-4257-906b-bb07a3f96d69",
   "metadata": {},
   "outputs": [],
   "source": [
    "df = load_iris()\n",
    "pd_df = pd.concat((pd.DataFrame(df['data']), pd.DataFrame(df['target'])),1)\n",
    "pd_df.columns = df['feature_names']+['label']\n"
   ]
  },
  {
   "cell_type": "code",
   "execution_count": 27,
   "id": "51a5c340-6ad5-454f-bb34-688e3a2521d0",
   "metadata": {},
   "outputs": [
    {
     "name": "stdout",
     "output_type": "stream",
     "text": [
      "Congrat! The knowledge sucess to learn\n"
     ]
    }
   ],
   "source": [
    "hj_hub.knowledge_fit(data=pd_df, target_domain='nbi_iris', label='label') "
   ]
  },
  {
   "cell_type": "code",
   "execution_count": 28,
   "id": "7bd14ae8-901c-400c-aabe-2be4f86dbe1b",
   "metadata": {},
   "outputs": [
    {
     "ename": "TypeError",
     "evalue": "knowledgepool_delete() got an unexpected keyword argument 'target_domain'",
     "output_type": "error",
     "traceback": [
      "\u001b[0;31m---------------------------------------------------------------------------\u001b[0m",
      "\u001b[0;31mTypeError\u001b[0m                                 Traceback (most recent call last)",
      "\u001b[0;32m<ipython-input-28-f2d639942c5b>\u001b[0m in \u001b[0;36m<module>\u001b[0;34m\u001b[0m\n\u001b[0;32m----> 1\u001b[0;31m \u001b[0mhj_hub\u001b[0m\u001b[0;34m.\u001b[0m\u001b[0mknowledgepool_delete\u001b[0m\u001b[0;34m(\u001b[0m\u001b[0mtarget_domain\u001b[0m\u001b[0;34m=\u001b[0m\u001b[0;34m'nbi_iris'\u001b[0m\u001b[0;34m)\u001b[0m\u001b[0;34m\u001b[0m\u001b[0;34m\u001b[0m\u001b[0m\n\u001b[0m",
      "\u001b[0;31mTypeError\u001b[0m: knowledgepool_delete() got an unexpected keyword argument 'target_domain'"
     ]
    }
   ],
   "source": [
    "hj_hub.knowledgepool_delete(target_domain='nbi_iris') "
   ]
  },
  {
   "cell_type": "code",
   "execution_count": 26,
   "id": "97cd8863-ac70-4f2c-9215-e890b0bc13d6",
   "metadata": {},
   "outputs": [],
   "source": [
    "# jackin_df = hj_hub.knowledge_transform(data=pd_df, target_domain='nbi_iris', \n",
    "#                            source_domain='kaggle_shivamb_hm_stores_dataset',label='label') \n",
    "# jackin_df.head()"
   ]
  },
  {
   "cell_type": "code",
   "execution_count": 9,
   "id": "a728ebc7-6012-463d-81a3-10e2adb850cf",
   "metadata": {},
   "outputs": [],
   "source": [
    "# features_list, metrics = hj_hub.fit(data=pd_df, target_domain='nbi_iris', \n",
    "#                                     task_name='nbi_iris_task01',label='label', best_domain=True)"
   ]
  },
  {
   "cell_type": "code",
   "execution_count": 10,
   "id": "cddb0ce1-6dfd-4513-b2d6-e32bcef46ed1",
   "metadata": {},
   "outputs": [],
   "source": [
    "features_list = ['nbi_iris-sepal length (cm)',\n",
    " 'nbi_iris-sepal width (cm)',\n",
    " 'nbi_iris-petal length (cm)',\n",
    " 'nbi_iris-petal width (cm)',\n",
    " 'kaggle_the_winton_stock_market_challenge_one-Feature_2',\n",
    " 'kaggle_the_winton_stock_market_challenge_one-Feature_3',\n",
    " 'kaggle_the_winton_stock_market_challenge_one-Feature_4',\n",
    " 'kaggle_the_winton_stock_market_challenge_one-Feature_5',\n",
    " 'kaggle_the_winton_stock_market_challenge_one-Feature_6',\n",
    " 'kaggle_the_winton_stock_market_challenge_one-Feature_7',\n",
    " 'kaggle_the_winton_stock_market_challenge_one-Feature_8',\n",
    " 'kaggle_the_winton_stock_market_challenge_one-Feature_9',\n",
    " 'kaggle_the_winton_stock_market_challenge_one-Feature_11',\n",
    " 'kaggle_the_winton_stock_market_challenge_one-Feature_12',\n",
    " 'kaggle_the_winton_stock_market_challenge_one-Feature_13',\n",
    " 'kaggle_the_winton_stock_market_challenge_one-Feature_14',\n",
    " 'kaggle_the_winton_stock_market_challenge_one-Feature_15',\n",
    " 'kaggle_the_winton_stock_market_challenge_one-Feature_17',\n",
    " 'kaggle_the_winton_stock_market_challenge_one-Feature_18',\n",
    " 'kaggle_the_winton_stock_market_challenge_one-Feature_19',\n",
    " 'kaggle_the_winton_stock_market_challenge_one-Feature_20',\n",
    " 'kaggle_the_winton_stock_market_challenge_one-Feature_21',\n",
    " 'kaggle_the_winton_stock_market_challenge_one-Feature_22',\n",
    " 'kaggle_the_winton_stock_market_challenge_one-Feature_23',\n",
    " 'kaggle_the_winton_stock_market_challenge_one-Feature_24',\n",
    " 'kaggle_the_winton_stock_market_challenge_one-Feature_25',\n",
    " 'kaggle_the_winton_stock_market_challenge_one-Ret_PlusOne']"
   ]
  },
  {
   "cell_type": "code",
   "execution_count": 16,
   "id": "fa60e0dd-e8b2-4017-99fd-759e0db98bc7",
   "metadata": {},
   "outputs": [],
   "source": [
    "preds = hj_hub.transform(data=pd_df, target_domain='nbi_iris', task_name='nbi_iris_task01',\n",
    "                         label='label',features_list=features_list, proba_domain=False)"
   ]
  },
  {
   "cell_type": "code",
   "execution_count": 18,
   "id": "abc6a33e-3432-482f-a5e0-ad88889670b1",
   "metadata": {},
   "outputs": [],
   "source": []
  },
  {
   "cell_type": "code",
   "execution_count": null,
   "id": "de20166c-d1aa-40ed-9df6-7506eda427b8",
   "metadata": {},
   "outputs": [],
   "source": []
  }
 ],
 "metadata": {
  "kernelspec": {
   "display_name": "Python 3",
   "language": "python",
   "name": "python3"
  },
  "language_info": {
   "codemirror_mode": {
    "name": "ipython",
    "version": 3
   },
   "file_extension": ".py",
   "mimetype": "text/x-python",
   "name": "python",
   "nbconvert_exporter": "python",
   "pygments_lexer": "ipython3",
   "version": "3.6.13"
  }
 },
 "nbformat": 4,
 "nbformat_minor": 5
}
