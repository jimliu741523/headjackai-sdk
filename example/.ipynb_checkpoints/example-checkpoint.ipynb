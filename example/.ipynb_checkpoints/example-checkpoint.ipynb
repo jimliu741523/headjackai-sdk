{
 "cells": [
  {
   "cell_type": "markdown",
   "id": "28c560ca-bcdc-4c52-ad41-be165b8b5639",
   "metadata": {},
   "source": [
    "##### Host setting and login your account\n"
   ]
  },
  {
   "cell_type": "code",
   "execution_count": 1,
   "id": "971d0a7c-7fdc-4f08-ae9c-d44b186b2d77",
   "metadata": {},
   "outputs": [
    {
     "data": {
      "text/plain": [
       "'Login Successful!'"
      ]
     },
     "execution_count": 1,
     "metadata": {},
     "output_type": "execute_result"
    }
   ],
   "source": [
    "from headjackai.headjackai_hub import headjackai_hub, AutoKnow\n",
    "import pandas as pd\n",
    "from sklearn.datasets import load_iris\n",
    "\n",
    "#host setting\n",
    "hj_hub = headjackai_hub('http://www.headjackai.com:9000')\n",
    "\n",
    "#account login\n",
    "hj_hub.login(username='???', pwd='???')"
   ]
  },
  {
   "cell_type": "markdown",
   "id": "0ccc9b8e-88d3-4ed7-8199-b6c6bc8cc7ab",
   "metadata": {},
   "source": [
    "##### Fisrtly, training a new knowledge model from the target domain is necessarliy if you want to use public genenral feature engineering \n"
   ]
  },
  {
   "cell_type": "code",
   "execution_count": 2,
   "id": "49956dca-7e20-4257-906b-bb07a3f96d69",
   "metadata": {
    "tags": []
   },
   "outputs": [
    {
     "data": {
      "text/plain": [
       "'Congrat! The task has been successfully accepted, please wait for a moment or check status on \"fit_status_check\"'"
      ]
     },
     "execution_count": 2,
     "metadata": {},
     "output_type": "execute_result"
    }
   ],
   "source": [
    "#Load example data \n",
    "df = load_iris()\n",
    "pd_df = pd.concat((pd.DataFrame(df['data']), pd.DataFrame(df['target'])),1)\n",
    "pd_df.columns = df['feature_names']+['label']\n",
    "\n",
    "\n",
    "#Train a new knowledge model of genenral feature engineering  \n",
    "hj_hub.knowledge_fit(data=pd_df, target_domain='example_iris', \n",
    "                     task_name='example_iris_task01', label='label') \n"
   ]
  },
  {
   "cell_type": "code",
   "execution_count": 3,
   "id": "480181bc-a0ec-4fcc-ae7d-9d605099cc92",
   "metadata": {},
   "outputs": [
    {
     "data": {
      "text/plain": [
       "{'account': 'nbiadmin',\n",
       " 'task_name': 'api_example_iris_task01',\n",
       " 'process': 'knowledge_fit',\n",
       " 'status': 'running'}"
      ]
     },
     "execution_count": 3,
     "metadata": {},
     "output_type": "execute_result"
    }
   ],
   "source": [
    "#Check the status of training task \n",
    "hj_hub.fit_status_check(task_name='example_iris_task01')"
   ]
  },
  {
   "cell_type": "code",
   "execution_count": 4,
   "id": "8b0d9475-4498-4f22-b261-eef9286668ab",
   "metadata": {},
   "outputs": [
    {
     "data": {
      "text/plain": [
       "{'account': 'nbiadmin',\n",
       " 'task_name': 'api_example_iris_task01',\n",
       " 'process': 'knowledge_fit',\n",
       " 'status': 'completed'}"
      ]
     },
     "execution_count": 4,
     "metadata": {},
     "output_type": "execute_result"
    }
   ],
   "source": [
    "#Knowledge has been successfully trained when \"completed\" status is displayed \n",
    "hj_hub.fit_status_check(task_name='example_iris_task01')"
   ]
  },
  {
   "cell_type": "markdown",
   "id": "31b026c6-27d6-4f52-a0bc-45a88c5bdca0",
   "metadata": {},
   "source": [
    "##### Now, you can begin using the general features engineering from the knowledge pool for your task \n"
   ]
  },
  {
   "cell_type": "code",
   "execution_count": 5,
   "id": "b0553c1a-76f7-4612-8ac0-21682a02fa33",
   "metadata": {},
   "outputs": [
    {
     "data": {
      "text/plain": [
       "['kaggle_brijbhushannanda1979_bigmart_sales_data',\n",
       " 'kaggle_blastchar_telco_customer_churn',\n",
       " 'kaggle_lava18_google_play_store_apps',\n",
       " 'kaggle_madislemsalu_facebook_ad_campaign',\n",
       " 'kaggle_datasets_mhdzahier_travel_insurance',\n",
       " 'kaggle_zhijinzhai_loandata',\n",
       " 'kaggle_janiobachmann_bank_marketing_dataset',\n",
       " 'kaggle_santoshd3_bank_customers',\n",
       " 'kaggle_mahirahmzh_starbucks_customer_retention_malaysia_survey',\n",
       " 'kaggle_ihormuliar_starbucks_customer_data',\n",
       " 'kaggle_luiscorter_netflix_original_films_imdb_scores',\n",
       " 'kaggle_shivamb_hm_stores_dataset',\n",
       " 'kaggle_vivovinco_nba_player_stats',\n",
       " 'kaggle_the_winton_stock_market_challenge_one',\n",
       " 'kaggle_muthuj7_weather_dataset',\n",
       " 'kaggle_rinichristy_2022_fuel_consumption_ratings',\n",
       " 'kaggle_gsutters_economic_freedom',\n",
       " 'kaggle_chrischien17_taiwan_taipei_city_real_estate_transaction_records',\n",
       " 'kaggle_nenamalikah_nft_collections_by_sales_volume',\n",
       " 'symphox_vouch_offline_interest',\n",
       " 'symphox_offline_time',\n",
       " 'symphox_online_time',\n",
       " 'symphox_online_interest',\n",
       " '***baseline***',\n",
       " 'smartphone_category',\n",
       " 'brain_stroke_dataset',\n",
       " 'Indicators-Heart-Disease',\n",
       " 'Net-Hourly-Electrical-Energy-Output',\n",
       " 'Airline Passenger Satisfaction',\n",
       " 'drug_type',\n",
       " 'pharyngitis_in_children',\n",
       " 'Digital-Sky',\n",
       " 'customer-info',\n",
       " 'LawSchoolAdmissions-info',\n",
       " 'smoke-info',\n",
       " 'pulstar-info',\n",
       " 'SteelIndustry',\n",
       " 'McDonalds',\n",
       " 'BorderCrossingEntry',\n",
       " 'RoadDataset',\n",
       " 'EmployeeChurn',\n",
       " 'TinderMatchRate',\n",
       " 'CustomerChurn',\n",
       " 'EmployEarnings-1',\n",
       " 'credit-card-churner',\n",
       " 'billstatement-creditcard',\n",
       " 'symphox_online_time_nbi']"
      ]
     },
     "execution_count": 5,
     "metadata": {},
     "output_type": "execute_result"
    }
   ],
   "source": [
    "#Check knowledge list on public pool\n",
    "hj_hub.knowledgepool_check(public_pool=True)"
   ]
  },
  {
   "cell_type": "code",
   "execution_count": 6,
   "id": "97cd8863-ac70-4f2c-9215-e890b0bc13d6",
   "metadata": {},
   "outputs": [
    {
     "data": {
      "text/html": [
       "<div>\n",
       "<style scoped>\n",
       "    .dataframe tbody tr th:only-of-type {\n",
       "        vertical-align: middle;\n",
       "    }\n",
       "\n",
       "    .dataframe tbody tr th {\n",
       "        vertical-align: top;\n",
       "    }\n",
       "\n",
       "    .dataframe thead th {\n",
       "        text-align: right;\n",
       "    }\n",
       "</style>\n",
       "<table border=\"1\" class=\"dataframe\">\n",
       "  <thead>\n",
       "    <tr style=\"text-align: right;\">\n",
       "      <th></th>\n",
       "      <th>example_iris-sepal length (cm)</th>\n",
       "      <th>example_iris-sepal width (cm)</th>\n",
       "      <th>example_iris-petal length (cm)</th>\n",
       "      <th>example_iris-petal width (cm)</th>\n",
       "      <th>uci_wine-alcohol</th>\n",
       "      <th>uci_wine-malic_acid</th>\n",
       "      <th>uci_wine-ash</th>\n",
       "      <th>uci_wine-alcalinity_of_ash</th>\n",
       "      <th>uci_wine-magnesium</th>\n",
       "      <th>uci_wine-total_phenols</th>\n",
       "      <th>uci_wine-flavanoids</th>\n",
       "      <th>uci_wine-nonflavanoid_phenols</th>\n",
       "      <th>uci_wine-proanthocyanins</th>\n",
       "      <th>uci_wine-color_intensity</th>\n",
       "      <th>uci_wine-hue</th>\n",
       "      <th>uci_wine-od280/od315_of_diluted_wines</th>\n",
       "      <th>uci_wine-proline</th>\n",
       "      <th>uci_wine-label</th>\n",
       "    </tr>\n",
       "  </thead>\n",
       "  <tbody>\n",
       "    <tr>\n",
       "      <th>0</th>\n",
       "      <td>5.1</td>\n",
       "      <td>3.5</td>\n",
       "      <td>1.4</td>\n",
       "      <td>0.2</td>\n",
       "      <td>12.632777</td>\n",
       "      <td>0.676357</td>\n",
       "      <td>2.479646</td>\n",
       "      <td>11.081870</td>\n",
       "      <td>101.631590</td>\n",
       "      <td>2.493408</td>\n",
       "      <td>2.746645</td>\n",
       "      <td>0.439887</td>\n",
       "      <td>2.219814</td>\n",
       "      <td>3.688163</td>\n",
       "      <td>0.922462</td>\n",
       "      <td>4.078457</td>\n",
       "      <td>454.770055</td>\n",
       "      <td>0</td>\n",
       "    </tr>\n",
       "    <tr>\n",
       "      <th>1</th>\n",
       "      <td>4.9</td>\n",
       "      <td>3.0</td>\n",
       "      <td>1.4</td>\n",
       "      <td>0.2</td>\n",
       "      <td>12.491779</td>\n",
       "      <td>0.694785</td>\n",
       "      <td>2.376548</td>\n",
       "      <td>12.603921</td>\n",
       "      <td>97.948949</td>\n",
       "      <td>1.795192</td>\n",
       "      <td>2.076449</td>\n",
       "      <td>0.359405</td>\n",
       "      <td>2.629347</td>\n",
       "      <td>4.077190</td>\n",
       "      <td>0.928145</td>\n",
       "      <td>4.126950</td>\n",
       "      <td>509.414450</td>\n",
       "      <td>0</td>\n",
       "    </tr>\n",
       "    <tr>\n",
       "      <th>2</th>\n",
       "      <td>4.7</td>\n",
       "      <td>3.2</td>\n",
       "      <td>1.3</td>\n",
       "      <td>0.2</td>\n",
       "      <td>12.457392</td>\n",
       "      <td>0.611203</td>\n",
       "      <td>2.518556</td>\n",
       "      <td>13.253913</td>\n",
       "      <td>98.030196</td>\n",
       "      <td>1.879045</td>\n",
       "      <td>2.233688</td>\n",
       "      <td>0.402734</td>\n",
       "      <td>2.311195</td>\n",
       "      <td>3.914516</td>\n",
       "      <td>0.903413</td>\n",
       "      <td>4.125958</td>\n",
       "      <td>440.239418</td>\n",
       "      <td>0</td>\n",
       "    </tr>\n",
       "    <tr>\n",
       "      <th>3</th>\n",
       "      <td>4.6</td>\n",
       "      <td>3.1</td>\n",
       "      <td>1.5</td>\n",
       "      <td>0.2</td>\n",
       "      <td>12.329138</td>\n",
       "      <td>0.482994</td>\n",
       "      <td>2.368225</td>\n",
       "      <td>13.912980</td>\n",
       "      <td>93.026348</td>\n",
       "      <td>1.797612</td>\n",
       "      <td>2.362026</td>\n",
       "      <td>0.413642</td>\n",
       "      <td>2.504255</td>\n",
       "      <td>4.468393</td>\n",
       "      <td>0.870534</td>\n",
       "      <td>4.042963</td>\n",
       "      <td>295.795821</td>\n",
       "      <td>0</td>\n",
       "    </tr>\n",
       "    <tr>\n",
       "      <th>4</th>\n",
       "      <td>5.0</td>\n",
       "      <td>3.6</td>\n",
       "      <td>1.4</td>\n",
       "      <td>0.2</td>\n",
       "      <td>12.704983</td>\n",
       "      <td>0.654829</td>\n",
       "      <td>2.608643</td>\n",
       "      <td>10.453509</td>\n",
       "      <td>99.906398</td>\n",
       "      <td>2.461194</td>\n",
       "      <td>3.066333</td>\n",
       "      <td>0.461151</td>\n",
       "      <td>1.981871</td>\n",
       "      <td>3.702657</td>\n",
       "      <td>0.925097</td>\n",
       "      <td>3.953313</td>\n",
       "      <td>427.363933</td>\n",
       "      <td>0</td>\n",
       "    </tr>\n",
       "  </tbody>\n",
       "</table>\n",
       "</div>"
      ],
      "text/plain": [
       "   example_iris-sepal length (cm)  example_iris-sepal width (cm)  \\\n",
       "0                             5.1                            3.5   \n",
       "1                             4.9                            3.0   \n",
       "2                             4.7                            3.2   \n",
       "3                             4.6                            3.1   \n",
       "4                             5.0                            3.6   \n",
       "\n",
       "   example_iris-petal length (cm)  example_iris-petal width (cm)  \\\n",
       "0                             1.4                            0.2   \n",
       "1                             1.4                            0.2   \n",
       "2                             1.3                            0.2   \n",
       "3                             1.5                            0.2   \n",
       "4                             1.4                            0.2   \n",
       "\n",
       "   uci_wine-alcohol  uci_wine-malic_acid  uci_wine-ash  \\\n",
       "0         12.632777             0.676357      2.479646   \n",
       "1         12.491779             0.694785      2.376548   \n",
       "2         12.457392             0.611203      2.518556   \n",
       "3         12.329138             0.482994      2.368225   \n",
       "4         12.704983             0.654829      2.608643   \n",
       "\n",
       "   uci_wine-alcalinity_of_ash  uci_wine-magnesium  uci_wine-total_phenols  \\\n",
       "0                   11.081870          101.631590                2.493408   \n",
       "1                   12.603921           97.948949                1.795192   \n",
       "2                   13.253913           98.030196                1.879045   \n",
       "3                   13.912980           93.026348                1.797612   \n",
       "4                   10.453509           99.906398                2.461194   \n",
       "\n",
       "   uci_wine-flavanoids  uci_wine-nonflavanoid_phenols  \\\n",
       "0             2.746645                       0.439887   \n",
       "1             2.076449                       0.359405   \n",
       "2             2.233688                       0.402734   \n",
       "3             2.362026                       0.413642   \n",
       "4             3.066333                       0.461151   \n",
       "\n",
       "   uci_wine-proanthocyanins  uci_wine-color_intensity  uci_wine-hue  \\\n",
       "0                  2.219814                  3.688163      0.922462   \n",
       "1                  2.629347                  4.077190      0.928145   \n",
       "2                  2.311195                  3.914516      0.903413   \n",
       "3                  2.504255                  4.468393      0.870534   \n",
       "4                  1.981871                  3.702657      0.925097   \n",
       "\n",
       "   uci_wine-od280/od315_of_diluted_wines  uci_wine-proline  uci_wine-label  \n",
       "0                               4.078457        454.770055               0  \n",
       "1                               4.126950        509.414450               0  \n",
       "2                               4.125958        440.239418               0  \n",
       "3                               4.042963        295.795821               0  \n",
       "4                               3.953313        427.363933               0  "
      ]
     },
     "execution_count": 6,
     "metadata": {},
     "output_type": "execute_result"
    }
   ],
   "source": [
    "#apply general features engineering on your task\n",
    "jackin_df = hj_hub.knowledge_transform(data=pd_df, target_domain='example_iris', \n",
    "                           source_domain='uci_wine',label='label') \n",
    "jackin_df.head()"
   ]
  },
  {
   "cell_type": "code",
   "execution_count": 7,
   "id": "abc6a33e-3432-482f-a5e0-ad88889670b1",
   "metadata": {},
   "outputs": [
    {
     "data": {
      "text/plain": [
       "'The knowledge of example_iris complete deletion'"
      ]
     },
     "execution_count": 7,
     "metadata": {},
     "output_type": "execute_result"
    }
   ],
   "source": [
    "# delete knowledge \n",
    "hj_hub.knowledgepool_delete(target_domain='example_iris') "
   ]
  },
  {
   "cell_type": "code",
   "execution_count": null,
   "id": "1430e6e3-0025-48ae-b35c-c0e5b0921f26",
   "metadata": {},
   "outputs": [],
   "source": []
  }
 ],
 "metadata": {
  "kernelspec": {
   "display_name": "Python 3",
   "language": "python",
   "name": "python3"
  },
  "language_info": {
   "codemirror_mode": {
    "name": "ipython",
    "version": 3
   },
   "file_extension": ".py",
   "mimetype": "text/x-python",
   "name": "python",
   "nbconvert_exporter": "python",
   "pygments_lexer": "ipython3",
   "version": "3.6.13"
  }
 },
 "nbformat": 4,
 "nbformat_minor": 5
}
